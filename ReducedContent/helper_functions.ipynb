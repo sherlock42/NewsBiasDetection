{
 "cells": [
  {
   "cell_type": "code",
   "execution_count": 1,
   "metadata": {},
   "outputs": [],
   "source": [
    "from ibm_watson import NaturalLanguageUnderstandingV1\n",
    "from ibm_watson.natural_language_understanding_v1 import Features, EntitiesOptions, KeywordsOptions,SemanticRolesOptions,RelationsOptions\n",
    "import codecs\n",
    "import networkx as nx\n",
    "import operator\n",
    "from nltk.stem import WordNetLemmatizer\n",
    "lemmatizer = WordNetLemmatizer()"
   ]
  },
  {
   "cell_type": "code",
   "execution_count": 2,
   "metadata": {},
   "outputs": [],
   "source": [
    "natural_language_understanding = NaturalLanguageUnderstandingV1(\n",
    "    version='2018-11-16',\n",
    "    iam_apikey='-2GVZ0naktrQbO23BmCMrRhIuT3rgjGOs1bHTdzJ-h3A',\n",
    "    url='https://gateway-lon.watsonplatform.net/natural-language-understanding/api'\n",
    ")"
   ]
  },
  {
   "cell_type": "code",
   "execution_count": 3,
   "metadata": {},
   "outputs": [],
   "source": [
    "def get_centralities(text):\n",
    "    response = natural_language_understanding.analyze(\n",
    "                    text=text,\n",
    "                    features=Features(entities=EntitiesOptions(),\n",
    "                                      keywords=KeywordsOptions(sentiment = True,emotion = True),\n",
    "                                      semantic_roles=SemanticRolesOptions(keywords=True,entities=True),\n",
    "                                      relations=RelationsOptions()),\n",
    "                    language='en').get_result()\n",
    "    key_sent = {}\n",
    "    for words in response['keywords']:\n",
    "        key_sent[words['text']] = words['sentiment']['score']\n",
    "    key_emotion = {}\n",
    "    for words in response['keywords']:\n",
    "        key_emotion[words['text']] = words['emotion']\n",
    "    keylist_rel = {}\n",
    "    for key in response['keywords']:\n",
    "        key_ent = key['text']\n",
    "        rel = key['relevance']\n",
    "        keylist_rel[key_ent] = rel\n",
    "    entities_rel = {}\n",
    "    G = nx.Graph()\n",
    "    sub = None\n",
    "    obj = None\n",
    "    \n",
    "    for role in response[\"semantic_roles\"]:\n",
    "        subject = role['subject']['text'].lower()\n",
    "\n",
    "        max_rel = 0\n",
    "        max_ent = []\n",
    "        if('keywords' in role['subject'].keys()):\n",
    "            for ent in role['subject']['keywords']:\n",
    "                ent_text = ent['text'].lower()\n",
    "\n",
    "                for dict_key in keylist_rel.keys():\n",
    "                    if(ent_text in dict_key.lower()):\n",
    "                            ent_rel =  keylist_rel[dict_key]\n",
    "\n",
    "                            if(ent_rel>max_rel):\n",
    "                                max_rel = ent_rel \n",
    "                                max_ent = ent\n",
    "                if(max_rel!=0 and max_ent):\n",
    "                    sub = max_ent['text']\n",
    "                    G.add_node(sub)\n",
    "\n",
    "        verb = role['action']['verb']['text'].lower()\n",
    "\n",
    "        max_rel = 0\n",
    "        max_ent = []\n",
    "        if('object' in role.keys()):\n",
    "            object = role['object']['text'].lower()\n",
    "            if('keywords' in role['object'].keys()):\n",
    "                for obj in role['object']['keywords']:\n",
    "                    obj_text = obj['text'].lower()\n",
    "\n",
    "                    for dict_key in keylist_rel.keys():\n",
    "                        if(obj_text in dict_key.lower()):\n",
    "                            obj_rel =  keylist_rel[dict_key]\n",
    "\n",
    "                            if(obj_rel>max_rel):\n",
    "                                max_rel = obj_rel \n",
    "                                max_ent = obj\n",
    "                    if(max_rel!=0 and max_ent):\n",
    "                        obj = max_ent['text']\n",
    "                        G.add_node(obj)\n",
    "                        if(sub and obj and sub!=obj):\n",
    "                            G.add_edge(sub,obj)\n",
    "    return nx.closeness_centrality(G), key_sent, key_emotion"
   ]
  },
  {
   "cell_type": "code",
   "execution_count": 4,
   "metadata": {},
   "outputs": [],
   "source": [
    "def sort_dict(my_dict):\n",
    "    return sorted(my_dict.items(), key=operator.itemgetter(1),reverse=True)"
   ]
  },
  {
   "cell_type": "code",
   "execution_count": 5,
   "metadata": {},
   "outputs": [],
   "source": [
    "def get_match(mylist,list):\n",
    "    maxval = 0\n",
    "    r_ent_rel = [None,None]\n",
    "    for tup in list:\n",
    "        count = 0\n",
    "        otherlist = tup[0].split(\" \")\n",
    "        for myword in mylist:\n",
    "            for otherword in otherlist:\n",
    "                if lemmatizer.lemmatize(myword.lower()) == lemmatizer.lemmatize(otherword.lower()):\n",
    "                    count+=1\n",
    "        if count > maxval:\n",
    "            maxval = count\n",
    "            r_ent_rel = [tup[0],tup[1]]\n",
    "    return r_ent_rel"
   ]
  },
  {
   "cell_type": "code",
   "execution_count": 6,
   "metadata": {},
   "outputs": [],
   "source": [
    "def does_contain(str1,str2):\n",
    "    count = 0\n",
    "    str1 = str1.split(\" \")\n",
    "    str2 = str2.split(\" \")\n",
    "    for word1 in str1:\n",
    "        for word2 in str2:\n",
    "            if(word1.lower() == word2.lower()):\n",
    "                count+=1\n",
    "    return count"
   ]
  },
  {
   "cell_type": "code",
   "execution_count": 7,
   "metadata": {},
   "outputs": [],
   "source": [
    "def get_sent(str,dict):\n",
    "    if str in dict :\n",
    "        return dict[str]\n",
    "    maxval = 0\n",
    "    rval = None\n",
    "    str = str.split(\" \")\n",
    "    for keys in dict:\n",
    "        count = 0\n",
    "        for mywords in str:\n",
    "            for otherwords in keys.split(\" \"):\n",
    "                if(mywords.lower() == otherwords.lower()):\n",
    "                    count+=1\n",
    "        if count > maxval:\n",
    "            maxval = count\n",
    "            rval = dict[keys]\n",
    "    return rval   "
   ]
  }
 ],
 "metadata": {
  "kernelspec": {
   "display_name": "Python 3",
   "language": "python",
   "name": "python3"
  },
  "language_info": {
   "codemirror_mode": {
    "name": "ipython",
    "version": 3
   },
   "file_extension": ".py",
   "mimetype": "text/x-python",
   "name": "python",
   "nbconvert_exporter": "python",
   "pygments_lexer": "ipython3",
   "version": "3.7.3"
  }
 },
 "nbformat": 4,
 "nbformat_minor": 2
}
