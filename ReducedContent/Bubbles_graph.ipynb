{
 "cells": [
  {
   "cell_type": "code",
   "execution_count": 21,
   "metadata": {},
   "outputs": [],
   "source": [
    "import pygal\n",
    "import cairosvg\n",
    "import csv\n",
    "import codecs\n",
    "import ast\n",
    "import csv\n",
    "import nltk\n",
    "from nltk.stem import WordNetLemmatizer \n",
    "from nltk.corpus import stopwords\n",
    "import string\n",
    "from pygal.style import BlueStyle"
   ]
  },
  {
   "cell_type": "code",
   "execution_count": 2,
   "metadata": {},
   "outputs": [],
   "source": [
    "lemmatizer = WordNetLemmatizer()\n",
    "stop_words = set(stopwords.words('english'))"
   ]
  },
  {
   "cell_type": "code",
   "execution_count": 3,
   "metadata": {},
   "outputs": [],
   "source": [
    "def lemmatize_entity(entity):\n",
    "    result = (entity.lower()).translate(str.maketrans(\"\",\"\", string.punctuation))\n",
    "    word_list = nltk.word_tokenize(result)\n",
    "    filtered_output = [w for w in word_list if not w in stop_words]\n",
    "    lemmatized_key = [lemmatizer.lemmatize(w) for w in filtered_output]\n",
    "    return lemmatized_key"
   ]
  },
  {
   "cell_type": "code",
   "execution_count": null,
   "metadata": {},
   "outputs": [],
   "source": []
  },
  {
   "cell_type": "code",
   "execution_count": 4,
   "metadata": {},
   "outputs": [],
   "source": [
    "def read_csv(filename):\n",
    "    data = []\n",
    "    with (codecs.open(filename,'r',encoding=\"utf-8\")) as f:\n",
    "        filereader = csv.reader(f, delimiter=',')\n",
    "        for row in filereader:\n",
    "            if(''.join(row).strip()):\n",
    "                data.append(row)\n",
    "    f.close()\n",
    "    data = data[1:]\n",
    "    return data"
   ]
  },
  {
   "cell_type": "code",
   "execution_count": 5,
   "metadata": {},
   "outputs": [],
   "source": [
    "data = read_csv('C:\\\\Users\\\\Reen\\\\Desktop\\\\Scripts\\\\Bubble\\\\data_my.csv')"
   ]
  },
  {
   "cell_type": "code",
   "execution_count": 6,
   "metadata": {},
   "outputs": [
    {
     "data": {
      "text/plain": [
       "124"
      ]
     },
     "execution_count": 6,
     "metadata": {},
     "output_type": "execute_result"
    }
   ],
   "source": [
    "len(data)"
   ]
  },
  {
   "cell_type": "code",
   "execution_count": 7,
   "metadata": {},
   "outputs": [],
   "source": [
    "def get_graph_input(all_common, cent_crnt_dict, np_crnt_src1, np_crnt_src2,cent_src1,cent_src2,src_name):\n",
    "    for key in cent_crnt_dict.keys():\n",
    "        if((match_entity(all_common,key)) is False):\n",
    "            #print(False,key)\n",
    "            match_src1 = match_entity(np_crnt_src1,key)\n",
    "            match_src2 = match_entity(np_crnt_src2,key)\n",
    "            \n",
    "            if(match_src1 and match_src2):\n",
    "                if(src_name==\"dd\"):\n",
    "                    all_common[key] = [cent_crnt_dict[key],0,0]\n",
    "                elif(src_name==\"ndtv\"):\n",
    "                    all_common[key] = [0,cent_crnt_dict[key],0]\n",
    "                elif(src_name==\"times\"):\n",
    "                    all_common[key] = [0,0,cent_crnt_dict[key]]\n",
    "                    \n",
    "            elif(match_src1 and not match_src2 ):               \n",
    "                result = match_with_src(cent_src2,key) \n",
    "                if((result[0] is not None) and result[1]!=-1):\n",
    "                    if(src_name==\"dd\"):\n",
    "                        all_common[key] = [cent_crnt_dict[key],0,result[1]]\n",
    "                    if(src_name==\"ndtv\"):\n",
    "                        all_common[key] = [0,cent_crnt_dict[key],result[1]]\n",
    "                    if(src_name==\"times\"):\n",
    "                        all_common[key] = [0,result[1],cent_crnt_dict[key]]\n",
    "                    \n",
    "                #print(\"***\",result,key)\n",
    "                #print(match_src1,match_src2,key)\n",
    "            \n",
    "            elif(match_src2 and not match_src1):\n",
    "                result = match_with_src(cent_src2,key) \n",
    "                if((result[0] is not None) and result[1]!=-1):\n",
    "                    if(src_name==\"dd\"):\n",
    "                        all_common[key] = [cent_crnt_dict[key],result[1],0]\n",
    "                    if(src_name==\"ndtv\"):\n",
    "                        all_common[key] = [result[1],cent_crnt_dict[key],0]\n",
    "                    if(src_name==\"dd\"):\n",
    "                        all_common[key] = [result[1],0,cent_crnt_dict[key]]\n",
    "\n",
    "    return all_common"
   ]
  },
  {
   "cell_type": "code",
   "execution_count": 8,
   "metadata": {},
   "outputs": [],
   "source": [
    "def match_with_src(src_dict,entity):\n",
    "    entity_lemma = lemmatize_entity(entity)\n",
    "    max_cent = -1\n",
    "    max_ent = None\n",
    "    for key in src_dict.keys():\n",
    "        key_lemma = lemmatize_entity(key)\n",
    "        if(len(key_lemma)==1 or len(entity_lemma)==1):\n",
    "            if(len(list(set(key_lemma).intersection(set(entity_lemma))))>0):\n",
    "                if(src_dict[key]>max_cent):\n",
    "                    max_cent = src_dict[key]\n",
    "                    max_ent = key\n",
    "            #return [key,src_dict[key]]\n",
    "        else:\n",
    "            if(len(list(set(key_lemma).intersection(set(entity_lemma))))>1):\n",
    "                  if(src_dict[key]>max_cent):\n",
    "                    max_cent = src_dict[key]\n",
    "                    max_ent = key\n",
    "            #return [key,src_dict[key]]\n",
    "    \n",
    "    return [max_ent,max_cent]"
   ]
  },
  {
   "cell_type": "code",
   "execution_count": 9,
   "metadata": {},
   "outputs": [
    {
     "data": {
      "text/plain": [
       "124"
      ]
     },
     "execution_count": 9,
     "metadata": {},
     "output_type": "execute_result"
    }
   ],
   "source": [
    "len(data)"
   ]
  },
  {
   "cell_type": "code",
   "execution_count": 10,
   "metadata": {},
   "outputs": [],
   "source": [
    "def match_entity(match_dict,entity):\n",
    "    entity_lemma = lemmatize_entity(entity)\n",
    "    for key in match_dict.keys():\n",
    "        key_lemma = lemmatize_entity(key)\n",
    "        if(len(list(set(key_lemma).intersection(set(entity_lemma))))>0):\n",
    "            return True\n",
    "    return False"
   ]
  },
  {
   "cell_type": "code",
   "execution_count": 11,
   "metadata": {},
   "outputs": [],
   "source": [
    "#get_graph_input(all_common,dd_cent,dd_tn,dd_ndtv,ndtv_cent,times_cent,\"dd\")"
   ]
  },
  {
   "cell_type": "code",
   "execution_count": 23,
   "metadata": {},
   "outputs": [
    {
     "name": "stdout",
     "output_type": "stream",
     "text": [
      "0\n",
      "1\n"
     ]
    }
   ],
   "source": [
    "for item in range(0,2):\n",
    "    item_id = data[item][0]\n",
    "    common_cent = ast.literal_eval(data[item][7])\n",
    "    dd_cent = {x[0]: x[1] for x in ast.literal_eval(data[item][4])}\n",
    "    ndtv_cent = {x[0]: x[1] for x in ast.literal_eval(data[item][5])}\n",
    "    times_cent = {x[0]: x[1] for x in ast.literal_eval(data[item][6])}\n",
    "    dd_tn = {x[0]: x[1] for x in ast.literal_eval(data[item][10])}\n",
    "    dd_ndtv = {x[0]: x[1] for x in ast.literal_eval(data[item][11])}\n",
    "    ndtv_dd = {x[0]: x[1] for x in ast.literal_eval(data[item][14])}\n",
    "    ndtv_tn = {x[0]: x[1] for x in ast.literal_eval(data[item][15])}\n",
    "    tn_dd = {x[0]: x[1] for x in ast.literal_eval(data[item][12])}\n",
    "    tn_ndtv = {x[0]: x[1] for x in ast.literal_eval(data[item][13])}\n",
    "    all_common = {key: common_cent[key] for key in common_cent.keys()}\n",
    "    all_common = get_graph_input(all_common,dd_cent,dd_tn,dd_ndtv,ndtv_cent,times_cent,\"dd\")\n",
    "    all_common = get_graph_input(all_common,ndtv_cent,ndtv_dd,ndtv_tn,dd_cent,times_cent,\"ndtv\")\n",
    "    all_common = get_graph_input(all_common,times_cent,tn_dd,tn_ndtv,dd_cent,ndtv_cent,\"times\")\n",
    "    #print(all_common)\n",
    "    print(item)\n",
    "    \n",
    "    \"\"\"labels = []\n",
    "    dd = []\n",
    "    ndtv = []\n",
    "    times = []\n",
    "    \n",
    "    for key in all_common.keys():\n",
    "        labels.append(key)\n",
    "        dd.append(all_common[key][0])\n",
    "        ndtv.append(all_common[key][1])\n",
    "        times.append(all_common[key][2])\"\"\"\n",
    "    \n",
    "    labels = ['DD','NDTV','Times']\n",
    "    \n",
    "        \n",
    "    \n",
    "    cht_nm = \"\" + str(item_id) + \".png\"\n",
    "    \n",
    "    \"\"\"dot_chart = pygal.Dot(x_label_rotation=90)\n",
    "    dot_chart.title = ''\n",
    "    dot_chart.x_labels = labels\n",
    "    dot_chart.add('DD', dd)\n",
    "    dot_chart.add('NDTV', ndtv)\n",
    "    dot_chart.add('Times', times)\n",
    "    dot_chart.render_to_png(cht_nm)\"\"\"\n",
    "    \n",
    "    dot_chart = pygal.Dot(x_label_rotation=30,logarithmic=True,width=900,height=1000,style=BlueStyle)\n",
    "    dot_chart.title = ''\n",
    "    dot_chart.x_labels = labels\n",
    "    for key in all_common.keys():\n",
    "        dot_chart.add(key,all_common[key])\n",
    "    dot_chart.render_to_png(cht_nm)"
   ]
  },
  {
   "cell_type": "code",
   "execution_count": 13,
   "metadata": {},
   "outputs": [],
   "source": [
    "#data[0]\n"
   ]
  },
  {
   "cell_type": "code",
   "execution_count": null,
   "metadata": {},
   "outputs": [],
   "source": []
  }
 ],
 "metadata": {
  "kernelspec": {
   "display_name": "Python 3",
   "language": "python",
   "name": "python3"
  },
  "language_info": {
   "codemirror_mode": {
    "name": "ipython",
    "version": 3
   },
   "file_extension": ".py",
   "mimetype": "text/x-python",
   "name": "python",
   "nbconvert_exporter": "python",
   "pygments_lexer": "ipython3",
   "version": "3.7.1"
  }
 },
 "nbformat": 4,
 "nbformat_minor": 2
}
