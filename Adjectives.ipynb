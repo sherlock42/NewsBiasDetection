{
  "nbformat": 4,
  "nbformat_minor": 0,
  "metadata": {
    "colab": {
      "name": "Adjectives.ipynb",
      "version": "0.3.2",
      "provenance": []
    },
    "kernelspec": {
      "name": "python3",
      "display_name": "Python 3"
    }
  },
  "cells": [
    {
      "metadata": {
        "id": "vCCOcQBQrzk6",
        "colab_type": "code",
        "colab": {}
      },
      "cell_type": "code",
      "source": [
        ""
      ],
      "execution_count": 0,
      "outputs": []
    },
    {
      "metadata": {
        "id": "QZkZ7C6pdRPX",
        "colab_type": "code",
        "colab": {}
      },
      "cell_type": "code",
      "source": [
        "import nltk"
      ],
      "execution_count": 0,
      "outputs": []
    },
    {
      "metadata": {
        "id": "npyQGOXwGG5U",
        "colab_type": "code",
        "outputId": "12218a69-ce0c-4f39-8ad9-5d2b2b780277",
        "colab": {
          "base_uri": "https://localhost:8080/",
          "height": 90
        }
      },
      "cell_type": "code",
      "source": [
        "nltk.download('averaged_perceptron_tagger')"
      ],
      "execution_count": 0,
      "outputs": [
        {
          "output_type": "stream",
          "text": [
            "[nltk_data] Downloading package averaged_perceptron_tagger to\n",
            "[nltk_data]     /root/nltk_data...\n",
            "[nltk_data]   Unzipping taggers/averaged_perceptron_tagger.zip.\n"
          ],
          "name": "stdout"
        },
        {
          "output_type": "execute_result",
          "data": {
            "text/plain": [
              "True"
            ]
          },
          "metadata": {
            "tags": []
          },
          "execution_count": 14
        }
      ]
    },
    {
      "metadata": {
        "id": "WkTtXWPFF9Ka",
        "colab_type": "code",
        "colab": {}
      },
      "cell_type": "code",
      "source": [
        "text=nltk.pos_tag(id32)"
      ],
      "execution_count": 0,
      "outputs": []
    },
    {
      "metadata": {
        "id": "YBkeiBJvGWBf",
        "colab_type": "code",
        "outputId": "2f80cdb8-3cb4-4cb5-9523-e6b8e7b03e26",
        "colab": {
          "base_uri": "https://localhost:8080/",
          "height": 4526
        }
      },
      "cell_type": "code",
      "source": [
        "text"
      ],
      "execution_count": 0,
      "outputs": [
        {
          "output_type": "execute_result",
          "data": {
            "text/plain": [
              "[('nirav', 'JJ'),\n",
              " ('modi', 'NN'),\n",
              " ('arrested', 'VBD'),\n",
              " ('london', 'JJ'),\n",
              " ('major', 'JJ'),\n",
              " ('boost', 'NN'),\n",
              " ('india', 'NN'),\n",
              " ('effort', 'NN'),\n",
              " ('bring', 'VBG'),\n",
              " ('back', 'RB'),\n",
              " ('fugitive', 'JJ'),\n",
              " ('diamantaire', 'NN'),\n",
              " ('nirav', 'NN'),\n",
              " ('modi', 'NN'),\n",
              " ('arrested', 'VBD'),\n",
              " ('london', 'JJR'),\n",
              " ('wednesday', 'JJ'),\n",
              " ('major', 'JJ'),\n",
              " ('boost', 'NN'),\n",
              " ('india', 'NN'),\n",
              " ('effort', 'NN'),\n",
              " ('bring', 'VBG'),\n",
              " ('back', 'RB'),\n",
              " ('fugitive', 'JJ'),\n",
              " ('diamantaire', 'NN'),\n",
              " ('nirav', 'NN'),\n",
              " ('modi', 'NN'),\n",
              " ('arrested', 'VBD'),\n",
              " ('london', 'JJ'),\n",
              " ('wednesday', 'JJ'),\n",
              " ('arrest', 'JJS'),\n",
              " ('came', 'VBD'),\n",
              " ('two', 'CD'),\n",
              " ('day', 'NN'),\n",
              " ('london', 'JJ'),\n",
              " ('court', 'NN'),\n",
              " ('issued', 'VBD'),\n",
              " ('warrant', 'JJ'),\n",
              " ('response', 'NN'),\n",
              " ('request', 'NN'),\n",
              " ('enforcement', 'NN'),\n",
              " ('directorate', 'NN'),\n",
              " ('extradition', 'NN'),\n",
              " ('money', 'NN'),\n",
              " ('laundering', 'VBG'),\n",
              " ('case', 'NN'),\n",
              " ('nirav', 'JJ'),\n",
              " ('modi', 'NN'),\n",
              " ('main', 'JJ'),\n",
              " ('accused', 'VBD'),\n",
              " ('connection', 'NN'),\n",
              " ('13500', 'CD'),\n",
              " ('crore', 'NN'),\n",
              " ('rupee', 'NN'),\n",
              " ('punjab', 'VBP'),\n",
              " ('national', 'JJ'),\n",
              " ('bank', 'NN'),\n",
              " ('scam', 'NN'),\n",
              " ('produced', 'VBN'),\n",
              " ('westminster', 'JJ'),\n",
              " ('magistrate', 'NN'),\n",
              " ('court', 'NN'),\n",
              " ('contested', 'VBD'),\n",
              " ('extradition', 'NN'),\n",
              " ('india', 'NN'),\n",
              " ('district', 'NN'),\n",
              " ('judge', 'NN'),\n",
              " ('marie', 'NN'),\n",
              " ('mallon', 'NN'),\n",
              " ('denied', 'VBD'),\n",
              " ('bail', 'NN'),\n",
              " ('modi', 'NN'),\n",
              " ('remanded', 'VBD'),\n",
              " ('custody', 'NN'),\n",
              " ('till', 'NN'),\n",
              " ('29th', 'CD'),\n",
              " ('march', 'NN'),\n",
              " ('back', 'RB'),\n",
              " ('home', 'NN'),\n",
              " ('government', 'NN'),\n",
              " ('reiterated', 'VBD'),\n",
              " ('commitment', 'JJ'),\n",
              " ('take', 'VB'),\n",
              " ('action', 'NN'),\n",
              " ('economic', 'JJ'),\n",
              " ('offender', 'NN'),\n",
              " ('nirav', 'NN'),\n",
              " ('modis', 'NN'),\n",
              " ('apprehension', 'NN'),\n",
              " ('hand', 'NN'),\n",
              " ('official', 'NN'),\n",
              " ('said', 'VBD'),\n",
              " ('enforcement', 'JJ'),\n",
              " ('directorate', 'NN'),\n",
              " ('sell', 'NN'),\n",
              " ('173', 'CD'),\n",
              " ('painting', 'VBG'),\n",
              " ('11', 'CD'),\n",
              " ('vehicle', 'NN'),\n",
              " ('beneficially', 'RB'),\n",
              " ('owned', 'VBN'),\n",
              " ('nirav', 'JJ'),\n",
              " ('modi', 'NN'),\n",
              " ('obtained', 'VBN'),\n",
              " ('permission', 'NN'),\n",
              " ('special', 'JJ'),\n",
              " ('court', 'NN'),\n",
              " ('mumbai', 'NN'),\n",
              " ('wednesday', 'JJ'),\n",
              " ('court', 'NN'),\n",
              " ('also', 'RB'),\n",
              " ('issued', 'VBD'),\n",
              " ('nonbailable', 'JJ'),\n",
              " ('warrant', 'JJ'),\n",
              " ('wife', 'NN'),\n",
              " ('ami', 'NN'),\n",
              " ('ed', 'NN'),\n",
              " ('recently', 'RB'),\n",
              " ('filed', 'VBD'),\n",
              " ('supplementary', 'JJ'),\n",
              " ('charge', 'NN'),\n",
              " ('sheet', 'NN'),\n",
              " ('underlining', 'JJ'),\n",
              " ('role', 'NN'),\n",
              " ('pnb', 'NN'),\n",
              " ('scam', 'NN'),\n",
              " ('ed', 'NN'),\n",
              " ('registered', 'VBD'),\n",
              " ('money', 'NN'),\n",
              " ('laundering', 'NN'),\n",
              " ('case', 'NN'),\n",
              " ('nirav', 'JJ'),\n",
              " ('modi', 'NN'),\n",
              " ('others', 'NNS'),\n",
              " ('february', 'VBP'),\n",
              " ('15', 'CD'),\n",
              " ('2018', 'CD'),\n",
              " ('provision', 'NN'),\n",
              " ('pmla', 'NN'),\n",
              " ('arrest', 'NN'),\n",
              " ('came', 'VBD'),\n",
              " ('two', 'CD'),\n",
              " ('day', 'NN'),\n",
              " ('london', 'JJ'),\n",
              " ('court', 'NN'),\n",
              " ('issued', 'VBD'),\n",
              " ('warrant', 'JJ'),\n",
              " ('response', 'NN'),\n",
              " ('request', 'NN'),\n",
              " ('enforcement', 'NN'),\n",
              " ('directorate', 'NN'),\n",
              " ('extradition', 'NN'),\n",
              " ('money', 'NN'),\n",
              " ('laundering', 'VBG'),\n",
              " ('case', 'NN'),\n",
              " ('nirav', 'JJ'),\n",
              " ('modi', 'NN'),\n",
              " ('main', 'JJ'),\n",
              " ('accused', 'VBD'),\n",
              " ('connection', 'NN'),\n",
              " ('13500', 'CD'),\n",
              " ('crore', 'NN'),\n",
              " ('rupee', 'NN'),\n",
              " ('punjab', 'VBP'),\n",
              " ('national', 'JJ'),\n",
              " ('bank', 'NN'),\n",
              " ('scam', 'NN'),\n",
              " ('produced', 'VBN'),\n",
              " ('westminster', 'JJ'),\n",
              " ('magistrate', 'NN'),\n",
              " ('court', 'NN'),\n",
              " ('contested', 'VBD'),\n",
              " ('extradition', 'NN'),\n",
              " ('india', 'NN'),\n",
              " ('district', 'NN'),\n",
              " ('judge', 'NN'),\n",
              " ('marie', 'NN'),\n",
              " ('mallon', 'NN'),\n",
              " ('denied', 'VBD'),\n",
              " ('bail', 'NN'),\n",
              " ('modi', 'NN'),\n",
              " ('remanded', 'VBD'),\n",
              " ('custody', 'NN'),\n",
              " ('till', 'NN'),\n",
              " ('29th', 'CD'),\n",
              " ('march', 'NN'),\n",
              " ('back', 'RB'),\n",
              " ('home', 'NN'),\n",
              " ('government', 'NN'),\n",
              " ('reiterated', 'VBD'),\n",
              " ('commitment', 'JJ'),\n",
              " ('take', 'VB'),\n",
              " ('action', 'NN'),\n",
              " ('economic', 'JJ'),\n",
              " ('offender', 'NN'),\n",
              " ('nirav', 'NN'),\n",
              " ('modis', 'NN'),\n",
              " ('apprehension', 'NN'),\n",
              " ('hand', 'NN'),\n",
              " ('official', 'NN'),\n",
              " ('said', 'VBD'),\n",
              " ('enforcement', 'JJ'),\n",
              " ('directorate', 'NN'),\n",
              " ('sell', 'NN'),\n",
              " ('173', 'CD'),\n",
              " ('painting', 'VBG'),\n",
              " ('11', 'CD'),\n",
              " ('vehicle', 'NN'),\n",
              " ('beneficially', 'RB'),\n",
              " ('owned', 'VBN'),\n",
              " ('nirav', 'JJ'),\n",
              " ('modi', 'NN'),\n",
              " ('obtained', 'VBN'),\n",
              " ('permission', 'NN'),\n",
              " ('special', 'JJ'),\n",
              " ('court', 'NN'),\n",
              " ('mumbai', 'NN'),\n",
              " ('wednesday', 'JJ'),\n",
              " ('court', 'NN'),\n",
              " ('also', 'RB'),\n",
              " ('issued', 'VBD'),\n",
              " ('nonbailable', 'JJ'),\n",
              " ('warrant', 'JJ'),\n",
              " ('wife', 'NN'),\n",
              " ('ami', 'NN'),\n",
              " ('ed', 'NN'),\n",
              " ('recently', 'RB'),\n",
              " ('filed', 'VBD'),\n",
              " ('supplementary', 'JJ'),\n",
              " ('charge', 'NN'),\n",
              " ('sheet', 'NN'),\n",
              " ('underlining', 'JJ'),\n",
              " ('role', 'NN'),\n",
              " ('pnb', 'NN'),\n",
              " ('scam', 'NN'),\n",
              " ('ed', 'NN'),\n",
              " ('registered', 'VBD'),\n",
              " ('money', 'NN'),\n",
              " ('laundering', 'NN'),\n",
              " ('case', 'NN'),\n",
              " ('nirav', 'JJ'),\n",
              " ('modi', 'NN'),\n",
              " ('others', 'NNS'),\n",
              " ('february', 'VBP'),\n",
              " ('15', 'CD'),\n",
              " ('2018', 'CD'),\n",
              " ('provision', 'NN'),\n",
              " ('pmla', 'NN')]"
            ]
          },
          "metadata": {
            "tags": []
          },
          "execution_count": 58
        }
      ]
    },
    {
      "metadata": {
        "id": "O-HkY_xGHDxq",
        "colab_type": "code",
        "outputId": "eaade912-a05c-480c-833d-c5674fe3dc05",
        "colab": {
          "base_uri": "https://localhost:8080/",
          "height": 345
        }
      },
      "cell_type": "code",
      "source": [
        "for i in range(0,114):\n",
        "  if text[i][1]=='JJ':\n",
        "    print(text[i][0])"
      ],
      "execution_count": 0,
      "outputs": [
        {
          "output_type": "stream",
          "text": [
            "hard\n",
            "electoral\n",
            "hard\n",
            "electoral\n",
            "congress\n",
            "name\n",
            "poverty\n",
            "nda\n",
            "pmkisan\n",
            "cong\n",
            "cheated\n",
            "congress\n",
            "name\n",
            "poverty\n",
            "nda\n",
            "pmkisan\n",
            "cong\n",
            "cheated\n"
          ],
          "name": "stdout"
        }
      ]
    },
    {
      "metadata": {
        "id": "iCpVR6DoIfkx",
        "colab_type": "code",
        "colab": {}
      },
      "cell_type": "code",
      "source": [
        "i=0"
      ],
      "execution_count": 0,
      "outputs": []
    },
    {
      "metadata": {
        "id": "RJHhCQcLHn9K",
        "colab_type": "code",
        "outputId": "1ca13714-e37c-4ea6-891d-b85b2a035d73",
        "colab": {
          "base_uri": "https://localhost:8080/",
          "height": 799
        }
      },
      "cell_type": "code",
      "source": [
        "for i in range (0,247):\n",
        "  if text[i][1]=='JJ':\n",
        "    print(text[i][0])"
      ],
      "execution_count": 0,
      "outputs": [
        {
          "output_type": "stream",
          "text": [
            "nirav\n",
            "london\n",
            "major\n",
            "fugitive\n",
            "wednesday\n",
            "major\n",
            "fugitive\n",
            "london\n",
            "wednesday\n",
            "london\n",
            "warrant\n",
            "nirav\n",
            "main\n",
            "national\n",
            "westminster\n",
            "commitment\n",
            "economic\n",
            "enforcement\n",
            "nirav\n",
            "special\n",
            "wednesday\n",
            "nonbailable\n",
            "warrant\n",
            "supplementary\n",
            "underlining\n",
            "nirav\n",
            "london\n",
            "warrant\n",
            "nirav\n",
            "main\n",
            "national\n",
            "westminster\n",
            "commitment\n",
            "economic\n",
            "enforcement\n",
            "nirav\n",
            "special\n",
            "wednesday\n",
            "nonbailable\n",
            "warrant\n",
            "supplementary\n",
            "underlining\n",
            "nirav\n"
          ],
          "name": "stdout"
        }
      ]
    },
    {
      "metadata": {
        "id": "5q0mtTj8GROd",
        "colab_type": "code",
        "outputId": "a3396a00-c984-4295-8ab9-54bf90e97a90",
        "colab": {
          "base_uri": "https://localhost:8080/",
          "height": 35
        }
      },
      "cell_type": "code",
      "source": [
        "len(text)"
      ],
      "execution_count": 0,
      "outputs": [
        {
          "output_type": "execute_result",
          "data": {
            "text/plain": [
              "248"
            ]
          },
          "metadata": {
            "tags": []
          },
          "execution_count": 59
        }
      ]
    },
    {
      "metadata": {
        "id": "zv2RF5KOG1M5",
        "colab_type": "code",
        "outputId": "83596ce0-a97b-4aaf-e4e1-43ec7b3d088a",
        "colab": {
          "base_uri": "https://localhost:8080/",
          "height": 72
        }
      },
      "cell_type": "code",
      "source": [
        "nltk.download('punkt')"
      ],
      "execution_count": 0,
      "outputs": [
        {
          "output_type": "stream",
          "text": [
            "[nltk_data] Downloading package punkt to /root/nltk_data...\n",
            "[nltk_data]   Unzipping tokenizers/punkt.zip.\n"
          ],
          "name": "stdout"
        },
        {
          "output_type": "execute_result",
          "data": {
            "text/plain": [
              "True"
            ]
          },
          "metadata": {
            "tags": []
          },
          "execution_count": 15
        }
      ]
    },
    {
      "metadata": {
        "id": "BjR-_vaXFl5N",
        "colab_type": "code",
        "colab": {}
      },
      "cell_type": "code",
      "source": [
        "ddadj = nltk.word_tokenize(dd_art[124])"
      ],
      "execution_count": 0,
      "outputs": []
    },
    {
      "metadata": {
        "id": "xbTq9GNoB4oq",
        "colab_type": "code",
        "colab": {}
      },
      "cell_type": "code",
      "source": [
        "ddadj=nltk.pos_tag(ddadj)"
      ],
      "execution_count": 0,
      "outputs": []
    },
    {
      "metadata": {
        "id": "UvgzyqqhCjUy",
        "colab_type": "code",
        "outputId": "3a774e9e-78f0-427f-b119-8f086e44aff7",
        "colab": {
          "base_uri": "https://localhost:8080/",
          "height": 35
        }
      },
      "cell_type": "code",
      "source": [
        "len(ddadj)"
      ],
      "execution_count": 0,
      "outputs": [
        {
          "output_type": "execute_result",
          "data": {
            "text/plain": [
              "241"
            ]
          },
          "metadata": {
            "tags": []
          },
          "execution_count": 97
        }
      ]
    },
    {
      "metadata": {
        "id": "-5qRsC0hB_WM",
        "colab_type": "code",
        "colab": {}
      },
      "cell_type": "code",
      "source": [
        "dd_adj=[]"
      ],
      "execution_count": 0,
      "outputs": []
    },
    {
      "metadata": {
        "id": "CbVHZve3CJjg",
        "colab_type": "code",
        "colab": {}
      },
      "cell_type": "code",
      "source": [
        "for i in range(0,241):\n",
        "  if ddadj[i][1]=='JJ':\n",
        "    dd_adj.append(ddadj[i][0])"
      ],
      "execution_count": 0,
      "outputs": []
    },
    {
      "metadata": {
        "colab_type": "code",
        "id": "AxP6wuTiC5Uu",
        "colab": {}
      },
      "cell_type": "code",
      "source": [
        "timesadj = nltk.word_tokenize(times_art[124])"
      ],
      "execution_count": 0,
      "outputs": []
    },
    {
      "metadata": {
        "colab_type": "code",
        "id": "fgvSzIs_C5U4",
        "colab": {}
      },
      "cell_type": "code",
      "source": [
        "timesadj=nltk.pos_tag(timesadj)"
      ],
      "execution_count": 0,
      "outputs": []
    },
    {
      "metadata": {
        "colab_type": "code",
        "outputId": "8b437fe2-7664-419f-9f27-ab94437e5841",
        "id": "_cn7XPC7C5U_",
        "colab": {
          "base_uri": "https://localhost:8080/",
          "height": 35
        }
      },
      "cell_type": "code",
      "source": [
        "len(timesadj)"
      ],
      "execution_count": 0,
      "outputs": [
        {
          "output_type": "execute_result",
          "data": {
            "text/plain": [
              "120"
            ]
          },
          "metadata": {
            "tags": []
          },
          "execution_count": 102
        }
      ]
    },
    {
      "metadata": {
        "colab_type": "code",
        "id": "uhBJ5WlvC5VN",
        "colab": {}
      },
      "cell_type": "code",
      "source": [
        "times_adj=[]"
      ],
      "execution_count": 0,
      "outputs": []
    },
    {
      "metadata": {
        "colab_type": "code",
        "id": "r2ManDUzC5Vb",
        "colab": {}
      },
      "cell_type": "code",
      "source": [
        "for i in range(0,120):\n",
        "  if timesadj[i][1]=='JJ':\n",
        "    times_adj.append(timesadj[i][0])"
      ],
      "execution_count": 0,
      "outputs": []
    },
    {
      "metadata": {
        "colab_type": "code",
        "id": "Y3H9D5yhDNbT",
        "colab": {}
      },
      "cell_type": "code",
      "source": [
        "ndtvadj = nltk.word_tokenize(ndtv_art[124])"
      ],
      "execution_count": 0,
      "outputs": []
    },
    {
      "metadata": {
        "colab_type": "code",
        "id": "1pkcuyOQDNbc",
        "colab": {}
      },
      "cell_type": "code",
      "source": [
        "ndtvadj=nltk.pos_tag(ndtvadj)"
      ],
      "execution_count": 0,
      "outputs": []
    },
    {
      "metadata": {
        "colab_type": "code",
        "outputId": "99d2cc0e-4344-4d73-bfdb-69b1d6c49d25",
        "id": "nsciZrc1DNbo",
        "colab": {
          "base_uri": "https://localhost:8080/",
          "height": 35
        }
      },
      "cell_type": "code",
      "source": [
        "len(ndtvadj)"
      ],
      "execution_count": 0,
      "outputs": [
        {
          "output_type": "execute_result",
          "data": {
            "text/plain": [
              "278"
            ]
          },
          "metadata": {
            "tags": []
          },
          "execution_count": 107
        }
      ]
    },
    {
      "metadata": {
        "colab_type": "code",
        "id": "WQ0uq_zODNb6",
        "colab": {}
      },
      "cell_type": "code",
      "source": [
        "ndtv_adj=[]"
      ],
      "execution_count": 0,
      "outputs": []
    },
    {
      "metadata": {
        "colab_type": "code",
        "id": "giGQo4RVDNcF",
        "colab": {}
      },
      "cell_type": "code",
      "source": [
        "for i in range(0,278):\n",
        "  if ndtvadj[i][1]=='JJ':\n",
        "    ndtv_adj.append(ndtvadj[i][0])"
      ],
      "execution_count": 0,
      "outputs": []
    },
    {
      "metadata": {
        "id": "pXaFoDCEsU3R",
        "colab_type": "text"
      },
      "cell_type": "markdown",
      "source": [
        "Add the dictionaries to a dataframe as you like"
      ]
    }
  ]
}