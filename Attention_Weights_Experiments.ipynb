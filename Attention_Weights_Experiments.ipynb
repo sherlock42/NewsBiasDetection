{
  "nbformat": 4,
  "nbformat_minor": 0,
  "metadata": {
    "colab": {
      "name": "Attention Weights Experiments.ipynb",
      "version": "0.3.2",
      "provenance": [],
      "collapsed_sections": []
    },
    "kernelspec": {
      "name": "python3",
      "display_name": "Python 3"
    },
    "accelerator": "GPU"
  },
  "cells": [
    {
      "metadata": {
        "id": "RQZXdpJPVEm8",
        "colab_type": "code",
        "colab": {}
      },
      "cell_type": "code",
      "source": [
        "import pandas as pd"
      ],
      "execution_count": 0,
      "outputs": []
    },
    {
      "metadata": {
        "id": "iNpNkSE7K1kQ",
        "colab_type": "code",
        "outputId": "cb23fd4b-c797-46a0-9e93-313f4ba96574",
        "colab": {
          "resources": {
            "http://localhost:8080/nbextensions/google.colab/files.js": {
              "data": "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",
              "ok": true,
              "headers": [
                [
                  "content-type",
                  "application/javascript"
                ]
              ],
              "status": 200,
              "status_text": ""
            }
          },
          "base_uri": "https://localhost:8080/",
          "height": 75
        }
      },
      "cell_type": "code",
      "source": [
        "from google.colab import files\n",
        "uploaded=files.upload()"
      ],
      "execution_count": 0,
      "outputs": [
        {
          "output_type": "display_data",
          "data": {
            "text/html": [
              "\n",
              "     <input type=\"file\" id=\"files-aa4e58d9-93b0-415c-94d3-7fb9bdccebad\" name=\"files[]\" multiple disabled />\n",
              "     <output id=\"result-aa4e58d9-93b0-415c-94d3-7fb9bdccebad\">\n",
              "      Upload widget is only available when the cell has been executed in the\n",
              "      current browser session. Please rerun this cell to enable.\n",
              "      </output>\n",
              "      <script src=\"/nbextensions/google.colab/files.js\"></script> "
            ],
            "text/plain": [
              "<IPython.core.display.HTML object>"
            ]
          },
          "metadata": {
            "tags": []
          }
        },
        {
          "output_type": "stream",
          "text": [
            "Saving National_TIMES.csv to National_TIMES.csv\n"
          ],
          "name": "stdout"
        }
      ]
    },
    {
      "metadata": {
        "id": "8bvYSEajjto-",
        "colab_type": "code",
        "colab": {}
      },
      "cell_type": "code",
      "source": [
        "dd=pd.read_csv(\"National_DD.csv\")"
      ],
      "execution_count": 0,
      "outputs": []
    },
    {
      "metadata": {
        "id": "MRWjYWlPkh8D",
        "colab_type": "code",
        "colab": {}
      },
      "cell_type": "code",
      "source": [
        "ndtv=pd.read_csv(\"National_NDTV.csv\")"
      ],
      "execution_count": 0,
      "outputs": []
    },
    {
      "metadata": {
        "id": "KnOrEJIVkp7s",
        "colab_type": "code",
        "colab": {}
      },
      "cell_type": "code",
      "source": [
        "times=pd.read_csv(\"National_TIMES.csv\")"
      ],
      "execution_count": 0,
      "outputs": []
    },
    {
      "metadata": {
        "id": "3iExkrIwseO_",
        "colab_type": "code",
        "colab": {}
      },
      "cell_type": "code",
      "source": [
        ""
      ],
      "execution_count": 0,
      "outputs": []
    },
    {
      "metadata": {
        "id": "7rm3DHd2a9Nu",
        "colab_type": "code",
        "colab": {}
      },
      "cell_type": "code",
      "source": [
        "dd_art=dd['Original Doc'].values"
      ],
      "execution_count": 0,
      "outputs": []
    },
    {
      "metadata": {
        "id": "cwdTSUQZbBpV",
        "colab_type": "code",
        "colab": {}
      },
      "cell_type": "code",
      "source": [
        "dd_sum=dd['Summary'].values"
      ],
      "execution_count": 0,
      "outputs": []
    },
    {
      "metadata": {
        "id": "D5SDVdS13lha",
        "colab_type": "code",
        "colab": {}
      },
      "cell_type": "code",
      "source": [
        "dd_dict=dd['Tf-Id Keys + Attention weights'].values"
      ],
      "execution_count": 0,
      "outputs": []
    },
    {
      "metadata": {
        "id": "eOmgL1I1C5As",
        "colab_type": "code",
        "colab": {}
      },
      "cell_type": "code",
      "source": [
        ""
      ],
      "execution_count": 0,
      "outputs": []
    },
    {
      "metadata": {
        "id": "nBr0bgOKDM78",
        "colab_type": "code",
        "colab": {}
      },
      "cell_type": "code",
      "source": [
        ""
      ],
      "execution_count": 0,
      "outputs": []
    },
    {
      "metadata": {
        "id": "ce6zCKO1CzQ_",
        "colab_type": "code",
        "colab": {}
      },
      "cell_type": "code",
      "source": [
        "dd_adj"
      ],
      "execution_count": 0,
      "outputs": []
    },
    {
      "metadata": {
        "colab_type": "code",
        "id": "GCOVKSMHda6A",
        "colab": {}
      },
      "cell_type": "code",
      "source": [
        "ndtv_art=ndtv['Original Doc'].values"
      ],
      "execution_count": 0,
      "outputs": []
    },
    {
      "metadata": {
        "colab_type": "code",
        "id": "z9cxZZlvda6L",
        "colab": {}
      },
      "cell_type": "code",
      "source": [
        "ndtv_sum=ndtv['Summary'].values"
      ],
      "execution_count": 0,
      "outputs": []
    },
    {
      "metadata": {
        "colab_type": "code",
        "id": "vL67wLJ1da6U",
        "colab": {}
      },
      "cell_type": "code",
      "source": [
        "ndtv_dict=ndtv['Tf-Id Keys + Attention weights'].values"
      ],
      "execution_count": 0,
      "outputs": []
    },
    {
      "metadata": {
        "id": "HFtSFad5dn-s",
        "colab_type": "code",
        "colab": {}
      },
      "cell_type": "code",
      "source": [
        ""
      ],
      "execution_count": 0,
      "outputs": []
    },
    {
      "metadata": {
        "colab_type": "code",
        "id": "n6QPOpZOdodR",
        "colab": {}
      },
      "cell_type": "code",
      "source": [
        "times_art=times['Original Doc'].values"
      ],
      "execution_count": 0,
      "outputs": []
    },
    {
      "metadata": {
        "colab_type": "code",
        "id": "nUdH-MRAdodb",
        "colab": {}
      },
      "cell_type": "code",
      "source": [
        "times_sum=times['Summary'].values"
      ],
      "execution_count": 0,
      "outputs": []
    },
    {
      "metadata": {
        "colab_type": "code",
        "id": "vWlvd83edodi",
        "colab": {}
      },
      "cell_type": "code",
      "source": [
        "times_dict=times['Tf-Id Keys + Attention weights'].values"
      ],
      "execution_count": 0,
      "outputs": []
    },
    {
      "metadata": {
        "id": "a6zsYYZA3v4b",
        "colab_type": "code",
        "colab": {}
      },
      "cell_type": "code",
      "source": [
        "import ast\n",
        "dd_dict=[ast.literal_eval(obj) for obj in dd_dict]"
      ],
      "execution_count": 0,
      "outputs": []
    },
    {
      "metadata": {
        "colab_type": "code",
        "id": "3wNv6qgr4l6h",
        "colab": {}
      },
      "cell_type": "code",
      "source": [
        "times_dict=times['Tf-Id Keys + Attention weights'].values"
      ],
      "execution_count": 0,
      "outputs": []
    },
    {
      "metadata": {
        "colab_type": "code",
        "id": "lwHxEFaX4l6s",
        "colab": {}
      },
      "cell_type": "code",
      "source": [
        "import ast\n",
        "times_dict=[ast.literal_eval(obj) for obj in times_dict]"
      ],
      "execution_count": 0,
      "outputs": []
    },
    {
      "metadata": {
        "colab_type": "code",
        "id": "uVzIWDgC4ms7",
        "colab": {}
      },
      "cell_type": "code",
      "source": [
        "ndtv_dict=ndtv['Tf-Id Keys + Attention weights'].values"
      ],
      "execution_count": 0,
      "outputs": []
    },
    {
      "metadata": {
        "colab_type": "code",
        "id": "jZDxkPhl4mtG",
        "colab": {}
      },
      "cell_type": "code",
      "source": [
        "import ast\n",
        "ndtv_dict=[ast.literal_eval(obj) for obj in ndtv_dict]"
      ],
      "execution_count": 0,
      "outputs": []
    },
    {
      "metadata": {
        "id": "l4Cwc9T-53T7",
        "colab_type": "code",
        "colab": {}
      },
      "cell_type": "code",
      "source": [
        "df=pd.DataFrame(columns=['dd article','dd adjectives','times article','times adjectives','ndtv article','ndtv adjectives'])"
      ],
      "execution_count": 0,
      "outputs": []
    },
    {
      "metadata": {
        "id": "8qOIv_ZE9JTH",
        "colab_type": "code",
        "colab": {}
      },
      "cell_type": "code",
      "source": [
        "count=0"
      ],
      "execution_count": 0,
      "outputs": []
    },
    {
      "metadata": {
        "id": "y-3UAZu7Bs5t",
        "colab_type": "code",
        "colab": {}
      },
      "cell_type": "code",
      "source": [
        ""
      ],
      "execution_count": 0,
      "outputs": []
    },
    {
      "metadata": {
        "id": "B4pViTmpAyux",
        "colab_type": "code",
        "colab": {}
      },
      "cell_type": "code",
      "source": [
        "for i in range (124,125):\n",
        "  df.loc[count]=[dd_art[i], dd_adj, times_art[i], times_adj, ndtv_art[i], ndtv_adj]\n",
        "  count = count+1\n",
        "\n"
      ],
      "execution_count": 0,
      "outputs": []
    },
    {
      "metadata": {
        "id": "icFDrUfvEQgY",
        "colab_type": "code",
        "outputId": "382fdc6c-dde4-432e-bc5d-55dff452f3d4",
        "colab": {
          "base_uri": "https://localhost:8080/",
          "height": 492
        }
      },
      "cell_type": "code",
      "source": [
        "df.head()"
      ],
      "execution_count": 0,
      "outputs": [
        {
          "output_type": "execute_result",
          "data": {
            "text/html": [
              "<div>\n",
              "<style scoped>\n",
              "    .dataframe tbody tr th:only-of-type {\n",
              "        vertical-align: middle;\n",
              "    }\n",
              "\n",
              "    .dataframe tbody tr th {\n",
              "        vertical-align: top;\n",
              "    }\n",
              "\n",
              "    .dataframe thead th {\n",
              "        text-align: right;\n",
              "    }\n",
              "</style>\n",
              "<table border=\"1\" class=\"dataframe\">\n",
              "  <thead>\n",
              "    <tr style=\"text-align: right;\">\n",
              "      <th></th>\n",
              "      <th>dd article</th>\n",
              "      <th>dd adjectives</th>\n",
              "      <th>times article</th>\n",
              "      <th>times adjectives</th>\n",
              "      <th>ndtv article</th>\n",
              "      <th>ndtv adjectives</th>\n",
              "    </tr>\n",
              "  </thead>\n",
              "  <tbody>\n",
              "    <tr>\n",
              "      <th>0</th>\n",
              "      <td>arun jaitley slam rahul gandhi promise giving ...</td>\n",
              "      <td>[hard, electoral, hard, electoral, congress, n...</td>\n",
              "      <td>arun jaitley call rahul gandhi minimum income ...</td>\n",
              "      <td>[minimum, cong, india, new, congress, ’, minim...</td>\n",
              "      <td>final assault poverty rahul gandhi r __6000amo...</td>\n",
              "      <td>[final, acceptable, 21st, final, minimum, nati...</td>\n",
              "    </tr>\n",
              "    <tr>\n",
              "      <th>1</th>\n",
              "      <td>nirav modi arrested london major boost india e...</td>\n",
              "      <td>[nirav, london, major, fugitive, wednesday, ma...</td>\n",
              "      <td>pnb scam fugitive diamantaire nirav modi arres...</td>\n",
              "      <td>[fugitive, london, –, political, fugitive, lon...</td>\n",
              "      <td>punjab national bank share rise nirav modis ar...</td>\n",
              "      <td>[punjab, national, modis, national, much, punj...</td>\n",
              "    </tr>\n",
              "    <tr>\n",
              "      <th>2</th>\n",
              "      <td>pm modi launch bjps main bhi chowkidar campaig...</td>\n",
              "      <td>[main, prime, unique, intearctive, main, prime...</td>\n",
              "      <td>pm modi change twitter name chowkidar narendra...</td>\n",
              "      <td>[lead, new, delhi, launch, social, prime, user...</td>\n",
              "      <td>pm modis main bhi chowkidar campaign bjp eye 2...</td>\n",
              "      <td>[main, video, pm, main, social, evil, prime, m...</td>\n",
              "    </tr>\n",
              "    <tr>\n",
              "      <th>3</th>\n",
              "      <td>supreme court reserve order mediation ayodhya ...</td>\n",
              "      <td>[supreme, supreme, mediation, supreme, chief, ...</td>\n",
              "      <td>supreme court reserve order mediation ram janm...</td>\n",
              "      <td>[supreme, new, delhi, bunch, allahabad, high, ...</td>\n",
              "      <td>supreme court reserve order courtmonitored med...</td>\n",
              "      <td>[supreme, supreme, ayodhya, early, eager, nati...</td>\n",
              "    </tr>\n",
              "    <tr>\n",
              "      <th>4</th>\n",
              "      <td>united india back air strike pm modi say count...</td>\n",
              "      <td>[united, safe, warrior, jaish, political, back...</td>\n",
              "      <td>assure country safe hand pm narendra modi indi...</td>\n",
              "      <td>[safe, indian, prime, countryman, tuesday, saf...</td>\n",
              "      <td>pm modi say country safe hand hour india strik...</td>\n",
              "      <td>[safe, jaish, nonmilitary, preemptive, early, ...</td>\n",
              "    </tr>\n",
              "  </tbody>\n",
              "</table>\n",
              "</div>"
            ],
            "text/plain": [
              "                                          dd article  \\\n",
              "0  arun jaitley slam rahul gandhi promise giving ...   \n",
              "1  nirav modi arrested london major boost india e...   \n",
              "2  pm modi launch bjps main bhi chowkidar campaig...   \n",
              "3  supreme court reserve order mediation ayodhya ...   \n",
              "4  united india back air strike pm modi say count...   \n",
              "\n",
              "                                       dd adjectives  \\\n",
              "0  [hard, electoral, hard, electoral, congress, n...   \n",
              "1  [nirav, london, major, fugitive, wednesday, ma...   \n",
              "2  [main, prime, unique, intearctive, main, prime...   \n",
              "3  [supreme, supreme, mediation, supreme, chief, ...   \n",
              "4  [united, safe, warrior, jaish, political, back...   \n",
              "\n",
              "                                       times article  \\\n",
              "0  arun jaitley call rahul gandhi minimum income ...   \n",
              "1  pnb scam fugitive diamantaire nirav modi arres...   \n",
              "2  pm modi change twitter name chowkidar narendra...   \n",
              "3  supreme court reserve order mediation ram janm...   \n",
              "4  assure country safe hand pm narendra modi indi...   \n",
              "\n",
              "                                    times adjectives  \\\n",
              "0  [minimum, cong, india, new, congress, ’, minim...   \n",
              "1  [fugitive, london, –, political, fugitive, lon...   \n",
              "2  [lead, new, delhi, launch, social, prime, user...   \n",
              "3  [supreme, new, delhi, bunch, allahabad, high, ...   \n",
              "4  [safe, indian, prime, countryman, tuesday, saf...   \n",
              "\n",
              "                                        ndtv article  \\\n",
              "0  final assault poverty rahul gandhi r __6000amo...   \n",
              "1  punjab national bank share rise nirav modis ar...   \n",
              "2  pm modis main bhi chowkidar campaign bjp eye 2...   \n",
              "3  supreme court reserve order courtmonitored med...   \n",
              "4  pm modi say country safe hand hour india strik...   \n",
              "\n",
              "                                     ndtv adjectives  \n",
              "0  [final, acceptable, 21st, final, minimum, nati...  \n",
              "1  [punjab, national, modis, national, much, punj...  \n",
              "2  [main, video, pm, main, social, evil, prime, m...  \n",
              "3  [supreme, supreme, ayodhya, early, eager, nati...  \n",
              "4  [safe, jaish, nonmilitary, preemptive, early, ...  "
            ]
          },
          "metadata": {
            "tags": []
          },
          "execution_count": 111
        }
      ]
    },
    {
      "metadata": {
        "id": "OBrMyvvT-2Vd",
        "colab_type": "code",
        "outputId": "b1720440-75a0-49d5-9ae1-128ce37f4c60",
        "colab": {
          "base_uri": "https://localhost:8080/",
          "height": 301
        }
      },
      "cell_type": "code",
      "source": [
        "for i in range (124,125):\n",
        "  for word in dd_dict[i]:\n",
        "    if word in ndtv_dict[i]:\n",
        "      if word in times_dict[i]:\n",
        "#         print(word, dd_dict[i][word],ndtv_dict[i][word],times_dict[i][word])\n",
        "        count = count+1\n",
        "        df.loc[count]=[word, dd_dict[i][word], ndtv_dict[i][word], times_dict[i][word]]\n",
        "  if df.empty:\n",
        "    continue\n",
        "  else:\n",
        "    df.plot(x='word', y=['dd','times','ndtv'], kind=\"bar\")      \n",
        "\n"
      ],
      "execution_count": 0,
      "outputs": [
        {
          "output_type": "display_data",
          "data": {
            "image/png": "[encoded data removed]",
            "text/plain": [
              "<Figure size 432x288 with 1 Axes>"
            ]
          },
          "metadata": {
            "tags": []
          }
        }
      ]
    },
    {
      "metadata": {
        "id": "6_cJQGLpIRP1",
        "colab_type": "code",
        "outputId": "06884835-962f-4d1c-9cc5-2bcf39cc7ecd",
        "colab": {
          "base_uri": "https://localhost:8080/",
          "height": 423
        }
      },
      "cell_type": "code",
      "source": [
        "df.plot(x='word', y=['dd','times','ndtv'], kind=\"bar\")"
      ],
      "execution_count": 0,
      "outputs": [
        {
          "output_type": "stream",
          "text": [
            "/usr/local/lib/python3.6/dist-packages/pandas/plotting/_core.py:1716: UserWarning: Pandas doesn't allow columns to be created via a new attribute name - see https://pandas.pydata.org/pandas-docs/stable/indexing.html#attribute-access\n",
            "  series.name = label\n"
          ],
          "name": "stderr"
        },
        {
          "output_type": "execute_result",
          "data": {
            "text/plain": [
              "<matplotlib.axes._subplots.AxesSubplot at 0x7f321b519b70>"
            ]
          },
          "metadata": {
            "tags": []
          },
          "execution_count": 49
        },
        {
          "output_type": "display_data",
          "data": {
            "image/png": "[encoded data removed]",
            "text/plain": [
              "<Figure size 432x288 with 1 Axes>"
            ]
          },
          "metadata": {
            "tags": []
          }
        }
      ]
    },
    {
      "metadata": {
        "id": "UVsPVE2w454x",
        "colab_type": "code",
        "outputId": "ea5aaae1-715c-4a88-f39c-240938d1ea8f",
        "colab": {
          "base_uri": "https://localhost:8080/",
          "height": 472
        }
      },
      "cell_type": "code",
      "source": [
        "# for i in range (0,1888):  \n",
        "#   for word in dd_dict[i]:\n",
        "#     if word in ndtv_dict[i]:\n",
        "#       if word in times_dict[i]:\n",
        "#         print(word, dd_dict[i][word],ndtv_dict[i][word],times_dict[i][word])\n",
        "#         count = count+1\n",
        "#         df.loc[count]=[dd_art[i],dd_sum[i],ndtv_art[i],ndtv_sum[i],times_art[i],times_sum[i],word, dd_dict[i][word],ndtv_dict[i][word],times_dict[i][word]]\n"
      ],
      "execution_count": 0,
      "outputs": [
        {
          "output_type": "stream",
          "text": [
            "bjp 0.11486388742923737 0.8965994715690613 0.061622392386198044\n"
          ],
          "name": "stdout"
        },
        {
          "output_type": "error",
          "ename": "ValueError",
          "evalue": "ignored",
          "traceback": [
            "\u001b[0;31m---------------------------------------------------------------------------\u001b[0m",
            "\u001b[0;31mValueError\u001b[0m                                Traceback (most recent call last)",
            "\u001b[0;32m<ipython-input-41-c1df86ad9ad3>\u001b[0m in \u001b[0;36m<module>\u001b[0;34m()\u001b[0m\n\u001b[1;32m      5\u001b[0m         \u001b[0mprint\u001b[0m\u001b[0;34m(\u001b[0m\u001b[0mword\u001b[0m\u001b[0;34m,\u001b[0m \u001b[0mdd_dict\u001b[0m\u001b[0;34m[\u001b[0m\u001b[0mi\u001b[0m\u001b[0;34m]\u001b[0m\u001b[0;34m[\u001b[0m\u001b[0mword\u001b[0m\u001b[0;34m]\u001b[0m\u001b[0;34m,\u001b[0m\u001b[0mndtv_dict\u001b[0m\u001b[0;34m[\u001b[0m\u001b[0mi\u001b[0m\u001b[0;34m]\u001b[0m\u001b[0;34m[\u001b[0m\u001b[0mword\u001b[0m\u001b[0;34m]\u001b[0m\u001b[0;34m,\u001b[0m\u001b[0mtimes_dict\u001b[0m\u001b[0;34m[\u001b[0m\u001b[0mi\u001b[0m\u001b[0;34m]\u001b[0m\u001b[0;34m[\u001b[0m\u001b[0mword\u001b[0m\u001b[0;34m]\u001b[0m\u001b[0;34m)\u001b[0m\u001b[0;34m\u001b[0m\u001b[0;34m\u001b[0m\u001b[0m\n\u001b[1;32m      6\u001b[0m         \u001b[0mcount\u001b[0m \u001b[0;34m=\u001b[0m \u001b[0mcount\u001b[0m\u001b[0;34m+\u001b[0m\u001b[0;36m1\u001b[0m\u001b[0;34m\u001b[0m\u001b[0;34m\u001b[0m\u001b[0m\n\u001b[0;32m----> 7\u001b[0;31m         \u001b[0mdf\u001b[0m\u001b[0;34m.\u001b[0m\u001b[0mloc\u001b[0m\u001b[0;34m[\u001b[0m\u001b[0mcount\u001b[0m\u001b[0;34m]\u001b[0m\u001b[0;34m=\u001b[0m\u001b[0;34m[\u001b[0m\u001b[0mi\u001b[0m\u001b[0;34m,\u001b[0m\u001b[0mdd_art\u001b[0m\u001b[0;34m[\u001b[0m\u001b[0mi\u001b[0m\u001b[0;34m]\u001b[0m\u001b[0;34m,\u001b[0m\u001b[0mdd_sum\u001b[0m\u001b[0;34m[\u001b[0m\u001b[0mi\u001b[0m\u001b[0;34m]\u001b[0m\u001b[0;34m,\u001b[0m\u001b[0mndtv_art\u001b[0m\u001b[0;34m[\u001b[0m\u001b[0mi\u001b[0m\u001b[0;34m]\u001b[0m\u001b[0;34m,\u001b[0m\u001b[0mndtv_sum\u001b[0m\u001b[0;34m[\u001b[0m\u001b[0mi\u001b[0m\u001b[0;34m]\u001b[0m\u001b[0;34m,\u001b[0m\u001b[0mtimes_art\u001b[0m\u001b[0;34m[\u001b[0m\u001b[0mi\u001b[0m\u001b[0;34m]\u001b[0m\u001b[0;34m,\u001b[0m\u001b[0mtimes_sum\u001b[0m\u001b[0;34m[\u001b[0m\u001b[0mi\u001b[0m\u001b[0;34m]\u001b[0m\u001b[0;34m,\u001b[0m\u001b[0mword\u001b[0m\u001b[0;34m,\u001b[0m \u001b[0mdd_dict\u001b[0m\u001b[0;34m[\u001b[0m\u001b[0mi\u001b[0m\u001b[0;34m]\u001b[0m\u001b[0;34m[\u001b[0m\u001b[0mword\u001b[0m\u001b[0;34m]\u001b[0m\u001b[0;34m,\u001b[0m\u001b[0mndtv_dict\u001b[0m\u001b[0;34m[\u001b[0m\u001b[0mi\u001b[0m\u001b[0;34m]\u001b[0m\u001b[0;34m[\u001b[0m\u001b[0mword\u001b[0m\u001b[0;34m]\u001b[0m\u001b[0;34m,\u001b[0m\u001b[0mtimes_dict\u001b[0m\u001b[0;34m[\u001b[0m\u001b[0mi\u001b[0m\u001b[0;34m]\u001b[0m\u001b[0;34m[\u001b[0m\u001b[0mword\u001b[0m\u001b[0;34m]\u001b[0m\u001b[0;34m]\u001b[0m\u001b[0;34m\u001b[0m\u001b[0;34m\u001b[0m\u001b[0m\n\u001b[0m",
            "\u001b[0;32m/usr/local/lib/python3.6/dist-packages/pandas/core/indexing.py\u001b[0m in \u001b[0;36m__setitem__\u001b[0;34m(self, key, value)\u001b[0m\n\u001b[1;32m    192\u001b[0m             \u001b[0mkey\u001b[0m \u001b[0;34m=\u001b[0m \u001b[0mcom\u001b[0m\u001b[0;34m.\u001b[0m\u001b[0m_apply_if_callable\u001b[0m\u001b[0;34m(\u001b[0m\u001b[0mkey\u001b[0m\u001b[0;34m,\u001b[0m \u001b[0mself\u001b[0m\u001b[0;34m.\u001b[0m\u001b[0mobj\u001b[0m\u001b[0;34m)\u001b[0m\u001b[0;34m\u001b[0m\u001b[0;34m\u001b[0m\u001b[0m\n\u001b[1;32m    193\u001b[0m         \u001b[0mindexer\u001b[0m \u001b[0;34m=\u001b[0m \u001b[0mself\u001b[0m\u001b[0;34m.\u001b[0m\u001b[0m_get_setitem_indexer\u001b[0m\u001b[0;34m(\u001b[0m\u001b[0mkey\u001b[0m\u001b[0;34m)\u001b[0m\u001b[0;34m\u001b[0m\u001b[0;34m\u001b[0m\u001b[0m\n\u001b[0;32m--> 194\u001b[0;31m         \u001b[0mself\u001b[0m\u001b[0;34m.\u001b[0m\u001b[0m_setitem_with_indexer\u001b[0m\u001b[0;34m(\u001b[0m\u001b[0mindexer\u001b[0m\u001b[0;34m,\u001b[0m \u001b[0mvalue\u001b[0m\u001b[0;34m)\u001b[0m\u001b[0;34m\u001b[0m\u001b[0;34m\u001b[0m\u001b[0m\n\u001b[0m\u001b[1;32m    195\u001b[0m \u001b[0;34m\u001b[0m\u001b[0m\n\u001b[1;32m    196\u001b[0m     \u001b[0;32mdef\u001b[0m \u001b[0m_has_valid_type\u001b[0m\u001b[0;34m(\u001b[0m\u001b[0mself\u001b[0m\u001b[0;34m,\u001b[0m \u001b[0mk\u001b[0m\u001b[0;34m,\u001b[0m \u001b[0maxis\u001b[0m\u001b[0;34m)\u001b[0m\u001b[0;34m:\u001b[0m\u001b[0;34m\u001b[0m\u001b[0;34m\u001b[0m\u001b[0m\n",
            "\u001b[0;32m/usr/local/lib/python3.6/dist-packages/pandas/core/indexing.py\u001b[0m in \u001b[0;36m_setitem_with_indexer\u001b[0;34m(self, indexer, value)\u001b[0m\n\u001b[1;32m    597\u001b[0m \u001b[0;34m\u001b[0m\u001b[0m\n\u001b[1;32m    598\u001b[0m                     \u001b[0;32mif\u001b[0m \u001b[0mlen\u001b[0m\u001b[0;34m(\u001b[0m\u001b[0mlabels\u001b[0m\u001b[0;34m)\u001b[0m \u001b[0;34m!=\u001b[0m \u001b[0mlen\u001b[0m\u001b[0;34m(\u001b[0m\u001b[0mvalue\u001b[0m\u001b[0;34m)\u001b[0m\u001b[0;34m:\u001b[0m\u001b[0;34m\u001b[0m\u001b[0;34m\u001b[0m\u001b[0m\n\u001b[0;32m--> 599\u001b[0;31m                         raise ValueError('Must have equal len keys and value '\n\u001b[0m\u001b[1;32m    600\u001b[0m                                          'when setting with an iterable')\n\u001b[1;32m    601\u001b[0m \u001b[0;34m\u001b[0m\u001b[0m\n",
            "\u001b[0;31mValueError\u001b[0m: Must have equal len keys and value when setting with an iterable"
          ]
        }
      ]
    },
    {
      "metadata": {
        "id": "nAdWtz_r8B_L",
        "colab_type": "code",
        "outputId": "d6876ba3-e9e6-4b93-a298-b5613fa6d601",
        "colab": {
          "base_uri": "https://localhost:8080/",
          "height": 649
        }
      },
      "cell_type": "code",
      "source": [
        "df.head()"
      ],
      "execution_count": 0,
      "outputs": [
        {
          "output_type": "execute_result",
          "data": {
            "text/html": [
              "<div>\n",
              "<style scoped>\n",
              "    .dataframe tbody tr th:only-of-type {\n",
              "        vertical-align: middle;\n",
              "    }\n",
              "\n",
              "    .dataframe tbody tr th {\n",
              "        vertical-align: top;\n",
              "    }\n",
              "\n",
              "    .dataframe thead th {\n",
              "        text-align: right;\n",
              "    }\n",
              "</style>\n",
              "<table border=\"1\" class=\"dataframe\">\n",
              "  <thead>\n",
              "    <tr style=\"text-align: right;\">\n",
              "      <th></th>\n",
              "      <th>dd_article</th>\n",
              "      <th>dd_summary</th>\n",
              "      <th>ndtv_article</th>\n",
              "      <th>ndtv_summary</th>\n",
              "      <th>times_article</th>\n",
              "      <th>times_summary</th>\n",
              "      <th>word</th>\n",
              "      <th>dd</th>\n",
              "      <th>times</th>\n",
              "      <th>ndtv</th>\n",
              "    </tr>\n",
              "  </thead>\n",
              "  <tbody>\n",
              "    <tr>\n",
              "      <th>1</th>\n",
              "      <td>bjps central election committee meeting held n...</td>\n",
              "      <td>capital finalise name candidate phase 2 lok sa...</td>\n",
              "      <td>bjp right mayawatis new attack congress cash h...</td>\n",
              "      <td>20 contest seven seat opposition alliance woul...</td>\n",
              "      <td>delhi bjp object fielding celebrity party asks...</td>\n",
              "      <td>protesting celebrity party asks new list candi...</td>\n",
              "      <td>bjp</td>\n",
              "      <td>0.114864</td>\n",
              "      <td>0.896599</td>\n",
              "      <td>0.061622</td>\n",
              "    </tr>\n",
              "    <tr>\n",
              "      <th>2</th>\n",
              "      <td>four naxals killed encounter security force ch...</td>\n",
              "      <td>around 6 forest chintalnar police station area...</td>\n",
              "      <td>4 maoist killed encounter crpf commando chhatt...</td>\n",
              "      <td>uniform one insas rifle two 303 rifle recovere...</td>\n",
              "      <td>chhattisgarh four maoist killed gun battle crp...</td>\n",
              "      <td>kilometre bimapur jagargunda area four body ma...</td>\n",
              "      <td>sukma</td>\n",
              "      <td>0.158605</td>\n",
              "      <td>0.152398</td>\n",
              "      <td>0.386931</td>\n",
              "    </tr>\n",
              "    <tr>\n",
              "      <th>3</th>\n",
              "      <td>four naxals killed encounter security force ch...</td>\n",
              "      <td>around 6 forest chintalnar police station area...</td>\n",
              "      <td>4 maoist killed encounter crpf commando chhatt...</td>\n",
              "      <td>uniform one insas rifle two 303 rifle recovere...</td>\n",
              "      <td>chhattisgarh four maoist killed gun battle crp...</td>\n",
              "      <td>kilometre bimapur jagargunda area four body ma...</td>\n",
              "      <td>rifle</td>\n",
              "      <td>0.432615</td>\n",
              "      <td>0.487951</td>\n",
              "      <td>0.497092</td>\n",
              "    </tr>\n",
              "    <tr>\n",
              "      <th>4</th>\n",
              "      <td>four naxals killed encounter security force ch...</td>\n",
              "      <td>around 6 forest chintalnar police station area...</td>\n",
              "      <td>4 maoist killed encounter crpf commando chhatt...</td>\n",
              "      <td>uniform one insas rifle two 303 rifle recovere...</td>\n",
              "      <td>chhattisgarh four maoist killed gun battle crp...</td>\n",
              "      <td>kilometre bimapur jagargunda area four body ma...</td>\n",
              "      <td>four</td>\n",
              "      <td>0.025523</td>\n",
              "      <td>0.024814</td>\n",
              "      <td>0.102400</td>\n",
              "    </tr>\n",
              "    <tr>\n",
              "      <th>5</th>\n",
              "      <td>four naxals killed encounter security force ch...</td>\n",
              "      <td>around 6 forest chintalnar police station area...</td>\n",
              "      <td>4 maoist killed encounter crpf commando chhatt...</td>\n",
              "      <td>uniform one insas rifle two 303 rifle recovere...</td>\n",
              "      <td>chhattisgarh four maoist killed gun battle crp...</td>\n",
              "      <td>kilometre bimapur jagargunda area four body ma...</td>\n",
              "      <td>insas</td>\n",
              "      <td>0.016134</td>\n",
              "      <td>0.100370</td>\n",
              "      <td>0.050386</td>\n",
              "    </tr>\n",
              "  </tbody>\n",
              "</table>\n",
              "</div>"
            ],
            "text/plain": [
              "                                          dd_article  \\\n",
              "1  bjps central election committee meeting held n...   \n",
              "2  four naxals killed encounter security force ch...   \n",
              "3  four naxals killed encounter security force ch...   \n",
              "4  four naxals killed encounter security force ch...   \n",
              "5  four naxals killed encounter security force ch...   \n",
              "\n",
              "                                          dd_summary  \\\n",
              "1  capital finalise name candidate phase 2 lok sa...   \n",
              "2  around 6 forest chintalnar police station area...   \n",
              "3  around 6 forest chintalnar police station area...   \n",
              "4  around 6 forest chintalnar police station area...   \n",
              "5  around 6 forest chintalnar police station area...   \n",
              "\n",
              "                                        ndtv_article  \\\n",
              "1  bjp right mayawatis new attack congress cash h...   \n",
              "2  4 maoist killed encounter crpf commando chhatt...   \n",
              "3  4 maoist killed encounter crpf commando chhatt...   \n",
              "4  4 maoist killed encounter crpf commando chhatt...   \n",
              "5  4 maoist killed encounter crpf commando chhatt...   \n",
              "\n",
              "                                        ndtv_summary  \\\n",
              "1  20 contest seven seat opposition alliance woul...   \n",
              "2  uniform one insas rifle two 303 rifle recovere...   \n",
              "3  uniform one insas rifle two 303 rifle recovere...   \n",
              "4  uniform one insas rifle two 303 rifle recovere...   \n",
              "5  uniform one insas rifle two 303 rifle recovere...   \n",
              "\n",
              "                                       times_article  \\\n",
              "1  delhi bjp object fielding celebrity party asks...   \n",
              "2  chhattisgarh four maoist killed gun battle crp...   \n",
              "3  chhattisgarh four maoist killed gun battle crp...   \n",
              "4  chhattisgarh four maoist killed gun battle crp...   \n",
              "5  chhattisgarh four maoist killed gun battle crp...   \n",
              "\n",
              "                                       times_summary   word        dd  \\\n",
              "1  protesting celebrity party asks new list candi...    bjp  0.114864   \n",
              "2  kilometre bimapur jagargunda area four body ma...  sukma  0.158605   \n",
              "3  kilometre bimapur jagargunda area four body ma...  rifle  0.432615   \n",
              "4  kilometre bimapur jagargunda area four body ma...   four  0.025523   \n",
              "5  kilometre bimapur jagargunda area four body ma...  insas  0.016134   \n",
              "\n",
              "      times      ndtv  \n",
              "1  0.896599  0.061622  \n",
              "2  0.152398  0.386931  \n",
              "3  0.487951  0.497092  \n",
              "4  0.024814  0.102400  \n",
              "5  0.100370  0.050386  "
            ]
          },
          "metadata": {
            "tags": []
          },
          "execution_count": 37
        }
      ]
    },
    {
      "metadata": {
        "id": "napE3ZYqkal4",
        "colab_type": "code",
        "outputId": "c700efe6-ce3f-4683-c981-22191cfbd8f1",
        "colab": {
          "base_uri": "https://localhost:8080/",
          "height": 204
        }
      },
      "cell_type": "code",
      "source": [
        "dd.head()"
      ],
      "execution_count": 0,
      "outputs": [
        {
          "output_type": "execute_result",
          "data": {
            "text/html": [
              "<div>\n",
              "<style scoped>\n",
              "    .dataframe tbody tr th:only-of-type {\n",
              "        vertical-align: middle;\n",
              "    }\n",
              "\n",
              "    .dataframe tbody tr th {\n",
              "        vertical-align: top;\n",
              "    }\n",
              "\n",
              "    .dataframe thead th {\n",
              "        text-align: right;\n",
              "    }\n",
              "</style>\n",
              "<table border=\"1\" class=\"dataframe\">\n",
              "  <thead>\n",
              "    <tr style=\"text-align: right;\">\n",
              "      <th></th>\n",
              "      <th>Original Doc</th>\n",
              "      <th>Summary</th>\n",
              "      <th>Tf-Id Keys + Attention weights</th>\n",
              "    </tr>\n",
              "  </thead>\n",
              "  <tbody>\n",
              "    <tr>\n",
              "      <th>0</th>\n",
              "      <td>ramus malek play role bond 25 ramus malek rece...</td>\n",
              "      <td>negotiation play antagonist latest installment...</td>\n",
              "      <td>{'malek': 0.11411621421575546, 'bond': 0.28867...</td>\n",
              "    </tr>\n",
              "    <tr>\n",
              "      <th>1</th>\n",
              "      <td>oscar 2019 green book win best picture bohemia...</td>\n",
              "      <td>green book came biggest winner 91st academy aw...</td>\n",
              "      <td>{'win': 0.13168831169605255, 'everyone': 0.418...</td>\n",
              "    </tr>\n",
              "    <tr>\n",
              "      <th>2</th>\n",
              "      <td>indiaset short film period end sentence get os...</td>\n",
              "      <td>titled period end sentence get oscar nominatio...</td>\n",
              "      <td>{'menstruation': 0.21662189066410065, 'short':...</td>\n",
              "    </tr>\n",
              "    <tr>\n",
              "      <th>3</th>\n",
              "      <td>veteran bollywood actor kader khan pass away v...</td>\n",
              "      <td>veteran bollywood actor kader khan passed away...</td>\n",
              "      <td>{'kader': 0.09586048126220703, 'khan': 0.28496...</td>\n",
              "    </tr>\n",
              "    <tr>\n",
              "      <th>4</th>\n",
              "      <td>kevin hart host oscar 2019 comedian kevin hart...</td>\n",
              "      <td>next academy award ceremony february 2019 ride...</td>\n",
              "      <td>{'host': 0.24923384189605713, 'hart': 0.162586...</td>\n",
              "    </tr>\n",
              "  </tbody>\n",
              "</table>\n",
              "</div>"
            ],
            "text/plain": [
              "                                        Original Doc  \\\n",
              "0  ramus malek play role bond 25 ramus malek rece...   \n",
              "1  oscar 2019 green book win best picture bohemia...   \n",
              "2  indiaset short film period end sentence get os...   \n",
              "3  veteran bollywood actor kader khan pass away v...   \n",
              "4  kevin hart host oscar 2019 comedian kevin hart...   \n",
              "\n",
              "                                             Summary  \\\n",
              "0  negotiation play antagonist latest installment...   \n",
              "1  green book came biggest winner 91st academy aw...   \n",
              "2  titled period end sentence get oscar nominatio...   \n",
              "3  veteran bollywood actor kader khan passed away...   \n",
              "4  next academy award ceremony february 2019 ride...   \n",
              "\n",
              "                      Tf-Id Keys + Attention weights  \n",
              "0  {'malek': 0.11411621421575546, 'bond': 0.28867...  \n",
              "1  {'win': 0.13168831169605255, 'everyone': 0.418...  \n",
              "2  {'menstruation': 0.21662189066410065, 'short':...  \n",
              "3  {'kader': 0.09586048126220703, 'khan': 0.28496...  \n",
              "4  {'host': 0.24923384189605713, 'hart': 0.162586...  "
            ]
          },
          "metadata": {
            "tags": []
          },
          "execution_count": 100
        }
      ]
    },
    {
      "metadata": {
        "id": "_G5c_qYSlJ_Q",
        "colab_type": "code",
        "colab": {}
      },
      "cell_type": "code",
      "source": [
        ""
      ],
      "execution_count": 0,
      "outputs": []
    },
    {
      "metadata": {
        "id": "_3a4q9yPV1e5",
        "colab_type": "code",
        "colab": {}
      },
      "cell_type": "code",
      "source": [
        "dd_dict1=dd['Tf-Id Keys + Attention weights'].values"
      ],
      "execution_count": 0,
      "outputs": []
    },
    {
      "metadata": {
        "colab_type": "code",
        "id": "Igrf_o48WEJj",
        "colab": {}
      },
      "cell_type": "code",
      "source": [
        "import ast\n",
        "dd_dict1=[ast.literal_eval(obj) for obj in dd_dict1]"
      ],
      "execution_count": 0,
      "outputs": []
    },
    {
      "metadata": {
        "colab_type": "code",
        "id": "TpDk5IpnWEJs",
        "colab": {}
      },
      "cell_type": "code",
      "source": [
        "times_dict1=times['Tf-Id Keys + Attention weights'].values"
      ],
      "execution_count": 0,
      "outputs": []
    },
    {
      "metadata": {
        "colab_type": "code",
        "id": "kbvYLAWsWEJx",
        "colab": {}
      },
      "cell_type": "code",
      "source": [
        "import ast\n",
        "times_dict1=[ast.literal_eval(obj) for obj in times_dict1]"
      ],
      "execution_count": 0,
      "outputs": []
    },
    {
      "metadata": {
        "colab_type": "code",
        "id": "45yCF_HQWEJ3",
        "colab": {}
      },
      "cell_type": "code",
      "source": [
        "ndtv_dict1=ndtv['Tf-Id Keys + Attention weights'].values"
      ],
      "execution_count": 0,
      "outputs": []
    },
    {
      "metadata": {
        "colab_type": "code",
        "id": "iLOhKPLrWEJ6",
        "colab": {}
      },
      "cell_type": "code",
      "source": [
        "import ast\n",
        "ndtv_dict1=[ast.literal_eval(obj) for obj in ndtv_dict1]"
      ],
      "execution_count": 0,
      "outputs": []
    },
    {
      "metadata": {
        "id": "9I2SA8oVWpKk",
        "colab_type": "code",
        "colab": {}
      },
      "cell_type": "code",
      "source": [
        ""
      ],
      "execution_count": 0,
      "outputs": []
    },
    {
      "metadata": {
        "colab_type": "code",
        "id": "UUsWHzzwWr1V",
        "colab": {}
      },
      "cell_type": "code",
      "source": [
        "dd_dict2=dd['DD Tfid'].values"
      ],
      "execution_count": 0,
      "outputs": []
    },
    {
      "metadata": {
        "colab_type": "code",
        "id": "QzyMNyKHWr1Y",
        "colab": {}
      },
      "cell_type": "code",
      "source": [
        "import ast\n",
        "dd_dict2=[ast.literal_eval(obj) for obj in dd_dict2]"
      ],
      "execution_count": 0,
      "outputs": []
    },
    {
      "metadata": {
        "colab_type": "code",
        "id": "DboyMt8eWr1d",
        "colab": {}
      },
      "cell_type": "code",
      "source": [
        "times_dict2=times['Times Tdif'].values"
      ],
      "execution_count": 0,
      "outputs": []
    },
    {
      "metadata": {
        "colab_type": "code",
        "id": "4lEhxiElWr1i",
        "colab": {}
      },
      "cell_type": "code",
      "source": [
        "import ast\n",
        "times_dict2=[ast.literal_eval(obj) for obj in times_dict2]"
      ],
      "execution_count": 0,
      "outputs": []
    },
    {
      "metadata": {
        "colab_type": "code",
        "id": "bCExcBiEWr1m",
        "colab": {}
      },
      "cell_type": "code",
      "source": [
        "ndtv_dict2=ndtv['NDTV Tfid'].values"
      ],
      "execution_count": 0,
      "outputs": []
    },
    {
      "metadata": {
        "colab_type": "code",
        "id": "RLlfXJinWr1r",
        "colab": {}
      },
      "cell_type": "code",
      "source": [
        "import ast\n",
        "ndtv_dict2=[ast.literal_eval(obj) for obj in ndtv_dict2]"
      ],
      "execution_count": 0,
      "outputs": []
    },
    {
      "metadata": {
        "id": "cESOAIf1XsYe",
        "colab_type": "code",
        "colab": {}
      },
      "cell_type": "code",
      "source": [
        "timesdf=pd.DataFrame(columns=['ndtv'])"
      ],
      "execution_count": 0,
      "outputs": []
    },
    {
      "metadata": {
        "id": "8H9nkUpOXUcq",
        "colab_type": "code",
        "colab": {}
      },
      "cell_type": "code",
      "source": [
        "for i in range (0,100):\n",
        "  totalsum=0\n",
        "  for word in times_dict1[i]:\n",
        "    if word in times_dict2[i]:\n",
        "#       print(word, dd_dict[i][word],ndtv_dict[i][word],times_dict[i][word])\n",
        "      totalsum=(totalsum+(times_dict1[i][word]*times_dict2[i][word]))\n",
        "  timesdf.loc[i]=[totalsum]\n"
      ],
      "execution_count": 0,
      "outputs": []
    },
    {
      "metadata": {
        "id": "i83WUzx9ZJL5",
        "colab_type": "code",
        "outputId": "c858db78-015a-4a27-b056-f91c01554035",
        "colab": {
          "base_uri": "https://localhost:8080/",
          "height": 126
        }
      },
      "cell_type": "code",
      "source": [
        "timesdf.info()"
      ],
      "execution_count": 0,
      "outputs": [
        {
          "output_type": "stream",
          "text": [
            "<class 'pandas.core.frame.DataFrame'>\n",
            "Int64Index: 100 entries, 0 to 99\n",
            "Data columns (total 1 columns):\n",
            "ndtv    100 non-null float64\n",
            "dtypes: float64(1)\n",
            "memory usage: 1.6 KB\n"
          ],
          "name": "stdout"
        }
      ]
    },
    {
      "metadata": {
        "id": "0-2VtpEcZO2R",
        "colab_type": "code",
        "colab": {}
      },
      "cell_type": "code",
      "source": [
        "timesdf.to_csv('timesscores.csv', sep=',', encoding='utf-8')"
      ],
      "execution_count": 0,
      "outputs": []
    },
    {
      "metadata": {
        "id": "6C_evq_SaYH9",
        "colab_type": "code",
        "colab": {}
      },
      "cell_type": "code",
      "source": [
        ""
      ],
      "execution_count": 0,
      "outputs": []
    }
  ]
}