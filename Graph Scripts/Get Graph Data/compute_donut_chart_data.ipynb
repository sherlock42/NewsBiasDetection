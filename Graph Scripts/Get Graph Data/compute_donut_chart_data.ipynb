{
 "cells": [
  {
   "cell_type": "code",
   "execution_count": 18,
   "metadata": {},
   "outputs": [],
   "source": [
    "import pandas as pd\n",
    "import ast"
   ]
  },
  {
   "cell_type": "code",
   "execution_count": 30,
   "metadata": {},
   "outputs": [],
   "source": [
    "df = pd.read_csv('results/results.csv')"
   ]
  },
  {
   "cell_type": "code",
   "execution_count": 31,
   "metadata": {},
   "outputs": [],
   "source": [
    "new_df = pd.DataFrame(columns=['ID','dd_tn_not_present','dd_ndtv_not_present','ndtv_dd_not_present','ndtv_tn_not_present','tn_dd_not_present','tn_ndtv_not_present'])"
   ]
  },
  {
   "cell_type": "code",
   "execution_count": 33,
   "metadata": {},
   "outputs": [],
   "source": [
    "def convert_to_dict(src_list):\n",
    "    #print(src_list)\n",
    "    #for item in src_list:\n",
    "        #print(item)\n",
    "    return_dict = {}\n",
    "    if(src_list!=[[]] and src_list!=[]):\n",
    "        return_dict = {item[0]: item[1] for item in src_list}\n",
    "    return return_dict"
   ]
  },
  {
   "cell_type": "code",
   "execution_count": 34,
   "metadata": {},
   "outputs": [],
   "source": [
    "for index,row in df.iterrows():\n",
    "    \n",
    "    item_id = row['ID']\n",
    "    #print(item_id)\n",
    "    \n",
    "    dd_tn_list = ast.literal_eval(row['dd_tn'])\n",
    "    dd_ndtv_list = ast.literal_eval(row['dd_ndtv'])\n",
    "    ndtv_dd_list = ast.literal_eval(row['ndtv_dd'])\n",
    "    ndtv_tn_list = ast.literal_eval(row['ndtv_tn'])\n",
    "    tn_ndtv_list = ast.literal_eval(row['tn_ndtv'])\n",
    "    tn_dd_list = ast.literal_eval(row['tn_dd'])\n",
    "    \n",
    "    dd_tn_dict = convert_to_dict(dd_tn_list)\n",
    "    dd_ndtv_dict = convert_to_dict(dd_ndtv_list)\n",
    "    ndtv_dd_dict = convert_to_dict(ndtv_dd_list)\n",
    "    ndtv_tn_dict = convert_to_dict(ndtv_tn_list)\n",
    "    tn_ndtv_dict = convert_to_dict(tn_ndtv_list)\n",
    "    tn_dd_dict = convert_to_dict(tn_dd_list)\n",
    "    \n",
    "    new_df = new_df.append({'ID':item_id,'dd_tn_not_present': dd_tn_dict  , 'dd_ndtv_not_present': dd_ndtv_dict, 'ndtv_dd_not_present':ndtv_dd_dict, 'ndtv_tn_not_present':ndtv_tn_dict,'tn_dd_not_present':tn_dd_dict,'tn_ndtv_not_present':tn_ndtv_dict },ignore_index=True)\n",
    "    "
   ]
  },
  {
   "cell_type": "code",
   "execution_count": 35,
   "metadata": {},
   "outputs": [],
   "source": [
    "new_df.to_csv(\"./donut_chart_data.csv\")"
   ]
  },
  {
   "cell_type": "code",
   "execution_count": null,
   "metadata": {},
   "outputs": [],
   "source": []
  }
 ],
 "metadata": {
  "kernelspec": {
   "display_name": "Python 3",
   "language": "python",
   "name": "python3"
  },
  "language_info": {
   "codemirror_mode": {
    "name": "ipython",
    "version": 3
   },
   "file_extension": ".py",
   "mimetype": "text/x-python",
   "name": "python",
   "nbconvert_exporter": "python",
   "pygments_lexer": "ipython3",
   "version": "3.7.1"
  }
 },
 "nbformat": 4,
 "nbformat_minor": 2
}
