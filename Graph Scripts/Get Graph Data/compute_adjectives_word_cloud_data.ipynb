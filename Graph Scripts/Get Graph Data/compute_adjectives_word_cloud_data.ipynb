{
 "cells": [
  {
   "cell_type": "code",
   "execution_count": 1,
   "metadata": {},
   "outputs": [],
   "source": [
    "import nltk\n",
    "import pandas as pd\n",
    "import string"
   ]
  },
  {
   "cell_type": "code",
   "execution_count": 2,
   "metadata": {},
   "outputs": [],
   "source": [
    "import multidict as multidict\n",
    "\n",
    "import numpy as np\n",
    "\n",
    "import os\n",
    "import re\n",
    "from PIL import Image\n",
    "from os import path\n",
    "from wordcloud import WordCloud\n",
    "import matplotlib.pyplot as plt"
   ]
  },
  {
   "cell_type": "code",
   "execution_count": 3,
   "metadata": {},
   "outputs": [
    {
     "name": "stderr",
     "output_type": "stream",
     "text": [
      "[nltk_data] Downloading package averaged_perceptron_tagger to\n",
      "[nltk_data]     C:\\Users\\Reen\\AppData\\Roaming\\nltk_data...\n",
      "[nltk_data]   Package averaged_perceptron_tagger is already up-to-\n",
      "[nltk_data]       date!\n"
     ]
    }
   ],
   "source": [
    "nltk.download('averaged_perceptron_tagger')\n",
    "from nltk.stem import WordNetLemmatizer \n",
    "from nltk.corpus import stopwords\n",
    "lemmatizer = WordNetLemmatizer()\n",
    "stop_words = set(stopwords.words('english'))"
   ]
  },
  {
   "cell_type": "code",
   "execution_count": 4,
   "metadata": {},
   "outputs": [],
   "source": [
    "df = pd.read_csv('/results/results.csv')"
   ]
  },
  {
   "cell_type": "code",
   "execution_count": 21,
   "metadata": {},
   "outputs": [],
   "source": [
    "new_df = pd.DataFrame(columns=['ID','adj_word_cloud_dd','adj_word_cloud_ndtv','adj_word_cloud_tn'])"
   ]
  },
  {
   "cell_type": "code",
   "execution_count": 13,
   "metadata": {},
   "outputs": [],
   "source": [
    "#df.head()"
   ]
  },
  {
   "cell_type": "code",
   "execution_count": 14,
   "metadata": {},
   "outputs": [],
   "source": [
    "def lemmatize_entity(entity):\n",
    "    result = (entity.lower()).translate(str.maketrans(\"\",\"\", string.punctuation))\n",
    "    word_list = nltk.word_tokenize(result)\n",
    "    filtered_output = [w for w in word_list if not w in stop_words]\n",
    "    lemmatized_key = [lemmatizer.lemmatize(w) for w in filtered_output]\n",
    "    return lemmatized_key"
   ]
  },
  {
   "cell_type": "code",
   "execution_count": 15,
   "metadata": {},
   "outputs": [],
   "source": [
    "def get_adjectives(src_tuple_list):\n",
    "    adj_list = []\n",
    "    for item in range(len(src_tuple_list)):\n",
    "        if(src_tuple_list[item][1]==\"JJ\"):\n",
    "            adj_list.append(src_tuple_list[item][0])\n",
    "    return adj_list"
   ]
  },
  {
   "cell_type": "code",
   "execution_count": 16,
   "metadata": {},
   "outputs": [],
   "source": [
    "def getFrequencyDictForText(sentence):\n",
    "    fullTermsDict = multidict.MultiDict()\n",
    "    tmpDict = {}\n",
    "\n",
    "    # making dict for counting frequencies\n",
    "    for text in sentence.split(\" \"):\n",
    "        if re.match(\"a|the|an|the|to|in|for|of|or|by|with|is|on|that|be\", text):\n",
    "            continue\n",
    "        val = tmpDict.get(text, 0)\n",
    "        tmpDict[text.lower()] = val + 1\n",
    "    for key in tmpDict:\n",
    "        fullTermsDict.add(key, tmpDict[key])\n",
    "    return fullTermsDict"
   ]
  },
  {
   "cell_type": "code",
   "execution_count": 22,
   "metadata": {},
   "outputs": [],
   "source": [
    "for index,row in df.iterrows():\n",
    "    #print('hello')\n",
    "    news_item_id = row['ID']\n",
    "    dd_article = row['dd_text']\n",
    "    ndtv_article = row['ndtv_text']\n",
    "    times_article = row['tn_text']\n",
    "    \n",
    "    lemma_dd = lemmatize_entity(dd_article)\n",
    "    lemma_ndtv = lemmatize_entity(ndtv_article)\n",
    "    lemma_times = lemmatize_entity(times_article)\n",
    "    \n",
    "    \n",
    "    ddadj = nltk.pos_tag(lemma_dd)\n",
    "    ndtvadj =  nltk.pos_tag(lemma_ndtv)\n",
    "    tnadj = nltk.pos_tag(lemma_times)\n",
    "    \n",
    "    dd_adj = get_adjectives(ddadj)\n",
    "    ndtv_adj = get_adjectives(ndtvadj)\n",
    "    tn_adj = get_adjectives(tnadj)\n",
    "    \n",
    "    dd_adj = (' '.join(dd_adj))\n",
    "    ndtv_adj = (' '.join(ndtv_adj))\n",
    "    tn_adj = (' '.join(tn_adj))\n",
    "    \n",
    "    dd_dict = dict(getFrequencyDictForText(dd_adj))\n",
    "    ndtv_dict = dict(getFrequencyDictForText(ndtv_adj))\n",
    "    times_dict = dict(getFrequencyDictForText(tn_adj))\n",
    "    \n",
    "    new_df = new_df.append({'ID': news_item_id, 'adj_word_cloud_dd':dd_dict, 'adj_word_cloud_ndtv':ndtv_dict, 'adj_word_cloud_tn':times_dict},ignore_index=True)"
   ]
  },
  {
   "cell_type": "code",
   "execution_count": 24,
   "metadata": {},
   "outputs": [],
   "source": [
    "new_df.to_csv('./adjectives_word_cloud_data.csv')"
   ]
  },
  {
   "cell_type": "code",
   "execution_count": null,
   "metadata": {},
   "outputs": [],
   "source": []
  }
 ],
 "metadata": {
  "kernelspec": {
   "display_name": "Python 3",
   "language": "python",
   "name": "python3"
  },
  "language_info": {
   "codemirror_mode": {
    "name": "ipython",
    "version": 3
   },
   "file_extension": ".py",
   "mimetype": "text/x-python",
   "name": "python",
   "nbconvert_exporter": "python",
   "pygments_lexer": "ipython3",
   "version": "3.7.1"
  }
 },
 "nbformat": 4,
 "nbformat_minor": 2
}
